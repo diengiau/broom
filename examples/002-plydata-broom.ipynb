{
 "cells": [
  {
   "cell_type": "markdown",
   "metadata": {},
   "source": [
    "**Preface**\n",
    "\n",
    "Author: Richard (Dien Giau Bui), at `buidiengiau@gmail.com`. I am a PhD student in Finance at National Taiwan University.\n",
    "\n",
    "Date: 2018/9/6\n",
    "\n",
    "This note presents how to use `pipe` with `plydata` in Python. In addition, I also present how to incorporate my package, `broom`, into this \"tidyverse\" world by easily summarize the regressions outputs by four functions: `lm`, `tidy`, `glance`, and `augment`."
   ]
  },
  {
   "cell_type": "code",
   "execution_count": 1,
   "metadata": {},
   "outputs": [],
   "source": [
    "import pandas as pd\n",
    "import numpy as np\n",
    "from plydata import group_by, define, summarize, do, query\n",
    "from broom import *"
   ]
  },
  {
   "cell_type": "markdown",
   "metadata": {},
   "source": [
    "# 1. Introduction\n",
    "\n"
   ]
  },
  {
   "cell_type": "code",
   "execution_count": 2,
   "metadata": {},
   "outputs": [
    {
     "data": {
      "text/html": [
       "<div>\n",
       "<style scoped>\n",
       "    .dataframe tbody tr th:only-of-type {\n",
       "        vertical-align: middle;\n",
       "    }\n",
       "\n",
       "    .dataframe tbody tr th {\n",
       "        vertical-align: top;\n",
       "    }\n",
       "\n",
       "    .dataframe thead th {\n",
       "        text-align: right;\n",
       "    }\n",
       "</style>\n",
       "<table border=\"1\" class=\"dataframe\">\n",
       "  <thead>\n",
       "    <tr style=\"text-align: right;\">\n",
       "      <th></th>\n",
       "      <th>x</th>\n",
       "      <th>y</th>\n",
       "      <th>d</th>\n",
       "    </tr>\n",
       "  </thead>\n",
       "  <tbody>\n",
       "    <tr>\n",
       "      <th>0</th>\n",
       "      <td>-1.085631</td>\n",
       "      <td>-0.748827</td>\n",
       "      <td>1</td>\n",
       "    </tr>\n",
       "    <tr>\n",
       "      <th>1</th>\n",
       "      <td>0.997345</td>\n",
       "      <td>0.567595</td>\n",
       "      <td>2</td>\n",
       "    </tr>\n",
       "    <tr>\n",
       "      <th>2</th>\n",
       "      <td>0.282978</td>\n",
       "      <td>0.718151</td>\n",
       "      <td>1</td>\n",
       "    </tr>\n",
       "    <tr>\n",
       "      <th>3</th>\n",
       "      <td>-1.506295</td>\n",
       "      <td>-0.999381</td>\n",
       "      <td>2</td>\n",
       "    </tr>\n",
       "    <tr>\n",
       "      <th>4</th>\n",
       "      <td>-0.578600</td>\n",
       "      <td>0.474898</td>\n",
       "      <td>1</td>\n",
       "    </tr>\n",
       "  </tbody>\n",
       "</table>\n",
       "</div>"
      ],
      "text/plain": [
       "          x         y  d\n",
       "0 -1.085631 -0.748827  1\n",
       "1  0.997345  0.567595  2\n",
       "2  0.282978  0.718151  1\n",
       "3 -1.506295 -0.999381  2\n",
       "4 -0.578600  0.474898  1"
      ]
     },
     "execution_count": 2,
     "metadata": {},
     "output_type": "execute_result"
    }
   ],
   "source": [
    "np.random.seed(123)\n",
    "x = np.random.randn(1000)\n",
    "y = np.random.randn(1000)\n",
    "d = np.array([1,2]*500)\n",
    "df = pd.DataFrame({\n",
    "    'x' : x,\n",
    "    'y' : y ,\n",
    "    'd' : d\n",
    "}\n",
    ")\n",
    "df.head()"
   ]
  },
  {
   "cell_type": "markdown",
   "metadata": {},
   "source": [
    "## Group_by and Summarize"
   ]
  },
  {
   "cell_type": "code",
   "execution_count": 3,
   "metadata": {},
   "outputs": [
    {
     "data": {
      "text/html": [
       "<div>\n",
       "<style scoped>\n",
       "    .dataframe tbody tr th:only-of-type {\n",
       "        vertical-align: middle;\n",
       "    }\n",
       "\n",
       "    .dataframe tbody tr th {\n",
       "        vertical-align: top;\n",
       "    }\n",
       "\n",
       "    .dataframe thead th {\n",
       "        text-align: right;\n",
       "    }\n",
       "</style>\n",
       "<table border=\"1\" class=\"dataframe\">\n",
       "  <thead>\n",
       "    <tr style=\"text-align: right;\">\n",
       "      <th></th>\n",
       "      <th>d</th>\n",
       "      <th>x.mean()</th>\n",
       "    </tr>\n",
       "  </thead>\n",
       "  <tbody>\n",
       "    <tr>\n",
       "      <th>0</th>\n",
       "      <td>1</td>\n",
       "      <td>-0.042167</td>\n",
       "    </tr>\n",
       "    <tr>\n",
       "      <th>1</th>\n",
       "      <td>2</td>\n",
       "      <td>-0.036961</td>\n",
       "    </tr>\n",
       "  </tbody>\n",
       "</table>\n",
       "</div>"
      ],
      "text/plain": [
       "   d  x.mean()\n",
       "0  1 -0.042167\n",
       "1  2 -0.036961"
      ]
     },
     "execution_count": 3,
     "metadata": {},
     "output_type": "execute_result"
    }
   ],
   "source": [
    "(df >> \n",
    " group_by('d') \n",
    " >> summarize('x.mean()')\n",
    ")"
   ]
  },
  {
   "cell_type": "code",
   "execution_count": 4,
   "metadata": {},
   "outputs": [
    {
     "data": {
      "text/html": [
       "<div>\n",
       "<style scoped>\n",
       "    .dataframe tbody tr th:only-of-type {\n",
       "        vertical-align: middle;\n",
       "    }\n",
       "\n",
       "    .dataframe tbody tr th {\n",
       "        vertical-align: top;\n",
       "    }\n",
       "\n",
       "    .dataframe thead th {\n",
       "        text-align: right;\n",
       "    }\n",
       "</style>\n",
       "<table border=\"1\" class=\"dataframe\">\n",
       "  <thead>\n",
       "    <tr style=\"text-align: right;\">\n",
       "      <th></th>\n",
       "      <th>x</th>\n",
       "      <th>y</th>\n",
       "      <th>d</th>\n",
       "    </tr>\n",
       "  </thead>\n",
       "  <tbody>\n",
       "    <tr>\n",
       "      <th>count</th>\n",
       "      <td>500.000000</td>\n",
       "      <td>500.000000</td>\n",
       "      <td>500.0</td>\n",
       "    </tr>\n",
       "    <tr>\n",
       "      <th>mean</th>\n",
       "      <td>-0.042167</td>\n",
       "      <td>-0.005625</td>\n",
       "      <td>1.0</td>\n",
       "    </tr>\n",
       "    <tr>\n",
       "      <th>std</th>\n",
       "      <td>1.011905</td>\n",
       "      <td>0.970900</td>\n",
       "      <td>0.0</td>\n",
       "    </tr>\n",
       "    <tr>\n",
       "      <th>min</th>\n",
       "      <td>-3.167055</td>\n",
       "      <td>-3.801378</td>\n",
       "      <td>1.0</td>\n",
       "    </tr>\n",
       "    <tr>\n",
       "      <th>25%</th>\n",
       "      <td>-0.692185</td>\n",
       "      <td>-0.647071</td>\n",
       "      <td>1.0</td>\n",
       "    </tr>\n",
       "    <tr>\n",
       "      <th>50%</th>\n",
       "      <td>-0.043672</td>\n",
       "      <td>0.038892</td>\n",
       "      <td>1.0</td>\n",
       "    </tr>\n",
       "    <tr>\n",
       "      <th>75%</th>\n",
       "      <td>0.683227</td>\n",
       "      <td>0.643466</td>\n",
       "      <td>1.0</td>\n",
       "    </tr>\n",
       "    <tr>\n",
       "      <th>max</th>\n",
       "      <td>2.766603</td>\n",
       "      <td>2.371388</td>\n",
       "      <td>1.0</td>\n",
       "    </tr>\n",
       "  </tbody>\n",
       "</table>\n",
       "</div>"
      ],
      "text/plain": [
       "                x           y      d\n",
       "count  500.000000  500.000000  500.0\n",
       "mean    -0.042167   -0.005625    1.0\n",
       "std      1.011905    0.970900    0.0\n",
       "min     -3.167055   -3.801378    1.0\n",
       "25%     -0.692185   -0.647071    1.0\n",
       "50%     -0.043672    0.038892    1.0\n",
       "75%      0.683227    0.643466    1.0\n",
       "max      2.766603    2.371388    1.0"
      ]
     },
     "execution_count": 4,
     "metadata": {},
     "output_type": "execute_result"
    }
   ],
   "source": [
    "df[df.d == 1].describe() # correct as above"
   ]
  },
  {
   "cell_type": "code",
   "execution_count": 5,
   "metadata": {},
   "outputs": [
    {
     "data": {
      "text/html": [
       "<div>\n",
       "<style scoped>\n",
       "    .dataframe tbody tr th:only-of-type {\n",
       "        vertical-align: middle;\n",
       "    }\n",
       "\n",
       "    .dataframe tbody tr th {\n",
       "        vertical-align: top;\n",
       "    }\n",
       "\n",
       "    .dataframe thead th {\n",
       "        text-align: right;\n",
       "    }\n",
       "</style>\n",
       "<table border=\"1\" class=\"dataframe\">\n",
       "  <thead>\n",
       "    <tr style=\"text-align: right;\">\n",
       "      <th></th>\n",
       "      <th>x</th>\n",
       "      <th>y</th>\n",
       "      <th>d</th>\n",
       "    </tr>\n",
       "  </thead>\n",
       "  <tbody>\n",
       "    <tr>\n",
       "      <th>count</th>\n",
       "      <td>500.000000</td>\n",
       "      <td>500.000000</td>\n",
       "      <td>500.0</td>\n",
       "    </tr>\n",
       "    <tr>\n",
       "      <th>mean</th>\n",
       "      <td>-0.036961</td>\n",
       "      <td>0.022403</td>\n",
       "      <td>2.0</td>\n",
       "    </tr>\n",
       "    <tr>\n",
       "      <th>std</th>\n",
       "      <td>0.991565</td>\n",
       "      <td>0.946679</td>\n",
       "      <td>0.0</td>\n",
       "    </tr>\n",
       "    <tr>\n",
       "      <th>min</th>\n",
       "      <td>-3.231055</td>\n",
       "      <td>-2.637922</td>\n",
       "      <td>2.0</td>\n",
       "    </tr>\n",
       "    <tr>\n",
       "      <th>25%</th>\n",
       "      <td>-0.682595</td>\n",
       "      <td>-0.636253</td>\n",
       "      <td>2.0</td>\n",
       "    </tr>\n",
       "    <tr>\n",
       "      <th>50%</th>\n",
       "      <td>-0.040681</td>\n",
       "      <td>0.054800</td>\n",
       "      <td>2.0</td>\n",
       "    </tr>\n",
       "    <tr>\n",
       "      <th>75%</th>\n",
       "      <td>0.642703</td>\n",
       "      <td>0.672326</td>\n",
       "      <td>2.0</td>\n",
       "    </tr>\n",
       "    <tr>\n",
       "      <th>max</th>\n",
       "      <td>3.571579</td>\n",
       "      <td>2.850708</td>\n",
       "      <td>2.0</td>\n",
       "    </tr>\n",
       "  </tbody>\n",
       "</table>\n",
       "</div>"
      ],
      "text/plain": [
       "                x           y      d\n",
       "count  500.000000  500.000000  500.0\n",
       "mean    -0.036961    0.022403    2.0\n",
       "std      0.991565    0.946679    0.0\n",
       "min     -3.231055   -2.637922    2.0\n",
       "25%     -0.682595   -0.636253    2.0\n",
       "50%     -0.040681    0.054800    2.0\n",
       "75%      0.642703    0.672326    2.0\n",
       "max      3.571579    2.850708    2.0"
      ]
     },
     "execution_count": 5,
     "metadata": {},
     "output_type": "execute_result"
    }
   ],
   "source": [
    "df[df.d == 2].describe() # correct as above"
   ]
  },
  {
   "cell_type": "markdown",
   "metadata": {},
   "source": [
    "## Mutate"
   ]
  },
  {
   "cell_type": "code",
   "execution_count": 6,
   "metadata": {},
   "outputs": [
    {
     "data": {
      "text/html": [
       "\n",
       "        <table border=\"1\" class=\"dataframe\">\n",
       "            <tbody>\n",
       "                <tr>\n",
       "                    <th>groups</th>\n",
       "                    <td>d</td>\n",
       "                </tr>\n",
       "            </tbody>\n",
       "        </table>\n",
       "        <div>\n",
       "<style scoped>\n",
       "    .dataframe tbody tr th:only-of-type {\n",
       "        vertical-align: middle;\n",
       "    }\n",
       "\n",
       "    .dataframe tbody tr th {\n",
       "        vertical-align: top;\n",
       "    }\n",
       "\n",
       "    .dataframe thead th {\n",
       "        text-align: right;\n",
       "    }\n",
       "</style>\n",
       "<table border=\"1\" class=\"dataframe\">\n",
       "  <thead>\n",
       "    <tr style=\"text-align: right;\">\n",
       "      <th></th>\n",
       "      <th>x</th>\n",
       "      <th>y</th>\n",
       "      <th>d</th>\n",
       "      <th>xy</th>\n",
       "    </tr>\n",
       "  </thead>\n",
       "  <tbody>\n",
       "    <tr>\n",
       "      <th>0</th>\n",
       "      <td>-1.085631</td>\n",
       "      <td>-0.748827</td>\n",
       "      <td>1</td>\n",
       "      <td>-1.834458</td>\n",
       "    </tr>\n",
       "    <tr>\n",
       "      <th>1</th>\n",
       "      <td>0.997345</td>\n",
       "      <td>0.567595</td>\n",
       "      <td>2</td>\n",
       "      <td>1.564940</td>\n",
       "    </tr>\n",
       "    <tr>\n",
       "      <th>2</th>\n",
       "      <td>0.282978</td>\n",
       "      <td>0.718151</td>\n",
       "      <td>1</td>\n",
       "      <td>1.001129</td>\n",
       "    </tr>\n",
       "    <tr>\n",
       "      <th>3</th>\n",
       "      <td>-1.506295</td>\n",
       "      <td>-0.999381</td>\n",
       "      <td>2</td>\n",
       "      <td>-2.505675</td>\n",
       "    </tr>\n",
       "    <tr>\n",
       "      <th>4</th>\n",
       "      <td>-0.578600</td>\n",
       "      <td>0.474898</td>\n",
       "      <td>1</td>\n",
       "      <td>-0.103702</td>\n",
       "    </tr>\n",
       "  </tbody>\n",
       "</table>\n",
       "</div>"
      ],
      "text/plain": [
       "groups: ['d']\n",
       "          x         y  d        xy\n",
       "0 -1.085631 -0.748827  1 -1.834458\n",
       "1  0.997345  0.567595  2  1.564940\n",
       "2  0.282978  0.718151  1  1.001129\n",
       "3 -1.506295 -0.999381  2 -2.505675\n",
       "4 -0.578600  0.474898  1 -0.103702"
      ]
     },
     "execution_count": 6,
     "metadata": {},
     "output_type": "execute_result"
    }
   ],
   "source": [
    "(df >> \n",
    " group_by('d') \n",
    " >> define(xy = 'x + y')\n",
    ").head()"
   ]
  },
  {
   "cell_type": "markdown",
   "metadata": {},
   "source": [
    "## Plotting"
   ]
  },
  {
   "cell_type": "markdown",
   "metadata": {},
   "source": [
    "# 2. Group_by + Regression + `broom`"
   ]
  },
  {
   "cell_type": "code",
   "execution_count": 7,
   "metadata": {},
   "outputs": [
    {
     "name": "stdout",
     "output_type": "stream",
     "text": [
      "Intercept   -0.035073\n",
      "x           -0.029983\n",
      "d            0.028184\n",
      "dtype: float64\n"
     ]
    },
    {
     "data": {
      "text/plain": [
       "<statsmodels.regression.linear_model.RegressionResultsWrapper at 0x1c3cf4e0>"
      ]
     },
     "execution_count": 7,
     "metadata": {},
     "output_type": "execute_result"
    }
   ],
   "source": [
    "# regression with `broom::lm`\n",
    "lm(data=df, formula='y ~ x + d')"
   ]
  },
  {
   "cell_type": "markdown",
   "metadata": {},
   "source": [
    "The interesting thing is we can combine this `pipe` property with our `broom` package to summarize regressions for each group in a DataFrame."
   ]
  },
  {
   "cell_type": "code",
   "execution_count": 8,
   "metadata": {},
   "outputs": [
    {
     "name": "stdout",
     "output_type": "stream",
     "text": [
      "Intercept   -0.003746\n",
      "x            0.044565\n",
      "dtype: float64\n",
      "Intercept    0.018425\n",
      "x           -0.107621\n",
      "dtype: float64\n"
     ]
    },
    {
     "data": {
      "text/html": [
       "\n",
       "        <table border=\"1\" class=\"dataframe\">\n",
       "            <tbody>\n",
       "                <tr>\n",
       "                    <th>groups</th>\n",
       "                    <td>d</td>\n",
       "                </tr>\n",
       "            </tbody>\n",
       "        </table>\n",
       "        <div>\n",
       "<style scoped>\n",
       "    .dataframe tbody tr th:only-of-type {\n",
       "        vertical-align: middle;\n",
       "    }\n",
       "\n",
       "    .dataframe tbody tr th {\n",
       "        vertical-align: top;\n",
       "    }\n",
       "\n",
       "    .dataframe thead th {\n",
       "        text-align: right;\n",
       "    }\n",
       "</style>\n",
       "<table border=\"1\" class=\"dataframe\">\n",
       "  <thead>\n",
       "    <tr style=\"text-align: right;\">\n",
       "      <th></th>\n",
       "      <th>d</th>\n",
       "      <th>coef</th>\n",
       "      <th>t</th>\n",
       "      <th>p_value</th>\n",
       "    </tr>\n",
       "  </thead>\n",
       "  <tbody>\n",
       "    <tr>\n",
       "      <th>0</th>\n",
       "      <td>1</td>\n",
       "      <td>-0.003746</td>\n",
       "      <td>-0.086195</td>\n",
       "      <td>0.931346</td>\n",
       "    </tr>\n",
       "    <tr>\n",
       "      <th>1</th>\n",
       "      <td>1</td>\n",
       "      <td>0.044565</td>\n",
       "      <td>1.037639</td>\n",
       "      <td>0.299942</td>\n",
       "    </tr>\n",
       "    <tr>\n",
       "      <th>2</th>\n",
       "      <td>2</td>\n",
       "      <td>0.018425</td>\n",
       "      <td>0.437255</td>\n",
       "      <td>0.662116</td>\n",
       "    </tr>\n",
       "    <tr>\n",
       "      <th>3</th>\n",
       "      <td>2</td>\n",
       "      <td>-0.107621</td>\n",
       "      <td>-2.531667</td>\n",
       "      <td>0.011659</td>\n",
       "    </tr>\n",
       "  </tbody>\n",
       "</table>\n",
       "</div>"
      ],
      "text/plain": [
       "groups: ['d']\n",
       "   d      coef         t   p_value\n",
       "0  1 -0.003746 -0.086195  0.931346\n",
       "1  1  0.044565  1.037639  0.299942\n",
       "2  2  0.018425  0.437255  0.662116\n",
       "3  2 -0.107621 -2.531667  0.011659"
      ]
     },
     "execution_count": 8,
     "metadata": {},
     "output_type": "execute_result"
    }
   ],
   "source": [
    "(df >> \n",
    "group_by('d') >>\n",
    "do(lambda x: tidy(lm('y ~ x', data=x)))\n",
    ")"
   ]
  },
  {
   "cell_type": "code",
   "execution_count": 9,
   "metadata": {},
   "outputs": [
    {
     "name": "stdout",
     "output_type": "stream",
     "text": [
      "Intercept   -0.003746\n",
      "x            0.044565\n",
      "dtype: float64\n",
      "Intercept    0.018425\n",
      "x           -0.107621\n",
      "dtype: float64\n"
     ]
    },
    {
     "data": {
      "text/html": [
       "\n",
       "        <table border=\"1\" class=\"dataframe\">\n",
       "            <tbody>\n",
       "                <tr>\n",
       "                    <th>groups</th>\n",
       "                    <td>d</td>\n",
       "                </tr>\n",
       "            </tbody>\n",
       "        </table>\n",
       "        <div>\n",
       "<style scoped>\n",
       "    .dataframe tbody tr th:only-of-type {\n",
       "        vertical-align: middle;\n",
       "    }\n",
       "\n",
       "    .dataframe tbody tr th {\n",
       "        vertical-align: top;\n",
       "    }\n",
       "\n",
       "    .dataframe thead th {\n",
       "        text-align: right;\n",
       "    }\n",
       "</style>\n",
       "<table border=\"1\" class=\"dataframe\">\n",
       "  <thead>\n",
       "    <tr style=\"text-align: right;\">\n",
       "      <th></th>\n",
       "      <th>d</th>\n",
       "      <th>obs</th>\n",
       "      <th>r2</th>\n",
       "      <th>ar2</th>\n",
       "      <th>f</th>\n",
       "      <th>f_pvalue</th>\n",
       "      <th>df</th>\n",
       "      <th>df_resid</th>\n",
       "      <th>aic</th>\n",
       "      <th>bic</th>\n",
       "    </tr>\n",
       "  </thead>\n",
       "  <tbody>\n",
       "    <tr>\n",
       "      <th>0</th>\n",
       "      <td>1</td>\n",
       "      <td>500.0</td>\n",
       "      <td>0.002157</td>\n",
       "      <td>0.000154</td>\n",
       "      <td>1.076694</td>\n",
       "      <td>0.299942</td>\n",
       "      <td>1.0</td>\n",
       "      <td>498.0</td>\n",
       "      <td>1391.326280</td>\n",
       "      <td>1399.755496</td>\n",
       "    </tr>\n",
       "    <tr>\n",
       "      <th>1</th>\n",
       "      <td>2</td>\n",
       "      <td>500.0</td>\n",
       "      <td>0.012707</td>\n",
       "      <td>0.010724</td>\n",
       "      <td>6.409337</td>\n",
       "      <td>0.011659</td>\n",
       "      <td>1.0</td>\n",
       "      <td>498.0</td>\n",
       "      <td>1360.748773</td>\n",
       "      <td>1369.177989</td>\n",
       "    </tr>\n",
       "  </tbody>\n",
       "</table>\n",
       "</div>"
      ],
      "text/plain": [
       "groups: ['d']\n",
       "   d    obs        r2       ar2         f  f_pvalue   df  df_resid  \\\n",
       "0  1  500.0  0.002157  0.000154  1.076694  0.299942  1.0     498.0   \n",
       "1  2  500.0  0.012707  0.010724  6.409337  0.011659  1.0     498.0   \n",
       "\n",
       "           aic          bic  \n",
       "0  1391.326280  1399.755496  \n",
       "1  1360.748773  1369.177989  "
      ]
     },
     "execution_count": 9,
     "metadata": {},
     "output_type": "execute_result"
    }
   ],
   "source": [
    "(df >> \n",
    "group_by('d') >>\n",
    "do(lambda x: glance(lm('y ~ x', data=x)))\n",
    ")"
   ]
  },
  {
   "cell_type": "code",
   "execution_count": 10,
   "metadata": {},
   "outputs": [
    {
     "name": "stdout",
     "output_type": "stream",
     "text": [
      "Intercept   -0.003746\n",
      "x            0.044565\n",
      "dtype: float64\n",
      "Intercept    0.018425\n",
      "x           -0.107621\n",
      "dtype: float64\n"
     ]
    },
    {
     "data": {
      "text/html": [
       "\n",
       "        <table border=\"1\" class=\"dataframe\">\n",
       "            <tbody>\n",
       "                <tr>\n",
       "                    <th>groups</th>\n",
       "                    <td>d</td>\n",
       "                </tr>\n",
       "            </tbody>\n",
       "        </table>\n",
       "        <div>\n",
       "<style scoped>\n",
       "    .dataframe tbody tr th:only-of-type {\n",
       "        vertical-align: middle;\n",
       "    }\n",
       "\n",
       "    .dataframe tbody tr th {\n",
       "        vertical-align: top;\n",
       "    }\n",
       "\n",
       "    .dataframe thead th {\n",
       "        text-align: right;\n",
       "    }\n",
       "</style>\n",
       "<table border=\"1\" class=\"dataframe\">\n",
       "  <thead>\n",
       "    <tr style=\"text-align: right;\">\n",
       "      <th></th>\n",
       "      <th>d</th>\n",
       "      <th>.fitted</th>\n",
       "      <th>.resid</th>\n",
       "    </tr>\n",
       "  </thead>\n",
       "  <tbody>\n",
       "    <tr>\n",
       "      <th>0</th>\n",
       "      <td>1</td>\n",
       "      <td>-0.052127</td>\n",
       "      <td>-0.696700</td>\n",
       "    </tr>\n",
       "    <tr>\n",
       "      <th>1</th>\n",
       "      <td>2</td>\n",
       "      <td>-0.088910</td>\n",
       "      <td>0.656505</td>\n",
       "    </tr>\n",
       "    <tr>\n",
       "      <th>2</th>\n",
       "      <td>1</td>\n",
       "      <td>0.008865</td>\n",
       "      <td>0.709285</td>\n",
       "    </tr>\n",
       "    <tr>\n",
       "      <th>3</th>\n",
       "      <td>2</td>\n",
       "      <td>0.180534</td>\n",
       "      <td>-1.179915</td>\n",
       "    </tr>\n",
       "    <tr>\n",
       "      <th>4</th>\n",
       "      <td>1</td>\n",
       "      <td>-0.029531</td>\n",
       "      <td>0.504429</td>\n",
       "    </tr>\n",
       "  </tbody>\n",
       "</table>\n",
       "</div>"
      ],
      "text/plain": [
       "groups: ['d']\n",
       "   d   .fitted    .resid\n",
       "0  1 -0.052127 -0.696700\n",
       "1  2 -0.088910  0.656505\n",
       "2  1  0.008865  0.709285\n",
       "3  2  0.180534 -1.179915\n",
       "4  1 -0.029531  0.504429"
      ]
     },
     "execution_count": 10,
     "metadata": {},
     "output_type": "execute_result"
    }
   ],
   "source": [
    "(df >> \n",
    "group_by('d') >>\n",
    "do(lambda x: augment(lm('y ~ x', data=x)))\n",
    ").head()"
   ]
  }
 ],
 "metadata": {
  "kernelspec": {
   "display_name": "Python 3",
   "language": "python",
   "name": "python3"
  },
  "language_info": {
   "codemirror_mode": {
    "name": "ipython",
    "version": 3
   },
   "file_extension": ".py",
   "mimetype": "text/x-python",
   "name": "python",
   "nbconvert_exporter": "python",
   "pygments_lexer": "ipython3",
   "version": "3.6.0"
  }
 },
 "nbformat": 4,
 "nbformat_minor": 2
}
